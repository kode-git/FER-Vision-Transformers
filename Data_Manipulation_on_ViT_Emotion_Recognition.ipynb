{
  "nbformat": 4,
  "nbformat_minor": 0,
  "metadata": {
    "colab": {
      "name": "Data Manipulation on ViT Emotion Recognition.ipynb",
      "provenance": [],
      "authorship_tag": "ABX9TyPw7U959fv/Y4JI6TimhSqV",
      "include_colab_link": true
    },
    "kernelspec": {
      "name": "python3",
      "display_name": "Python 3"
    },
    "language_info": {
      "name": "python"
    }
  },
  "cells": [
    {
      "cell_type": "markdown",
      "metadata": {
        "id": "view-in-github",
        "colab_type": "text"
      },
      "source": [
        "<a href=\"https://colab.research.google.com/github/kode-git/ViT-emotion-recognition/blob/main/Data_Manipulation_on_ViT_Emotion_Recognition.ipynb\" target=\"_parent\"><img src=\"https://colab.research.google.com/assets/colab-badge.svg\" alt=\"Open In Colab\"/></a>"
      ]
    },
    {
      "cell_type": "markdown",
      "source": [
        "# Data Manipulation on ViT Emotion Recognition"
      ],
      "metadata": {
        "id": "jGGz61CkQ1Qa"
      }
    }
  ]
}