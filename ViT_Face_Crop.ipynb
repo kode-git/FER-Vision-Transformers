{
  "nbformat": 4,
  "nbformat_minor": 0,
  "metadata": {
    "colab": {
      "name": "ViT_Face_Crop.ipynb",
      "provenance": [],
      "include_colab_link": true
    },
    "kernelspec": {
      "name": "python3",
      "display_name": "Python 3"
    },
    "language_info": {
      "name": "python"
    }
  },
  "cells": [
    {
      "cell_type": "markdown",
      "metadata": {
        "id": "view-in-github",
        "colab_type": "text"
      },
      "source": [
        "<a href=\"https://colab.research.google.com/github/kode-git/ViT-emotion-recognition/blob/main/ViT_Face_Crop.ipynb\" target=\"_parent\"><img src=\"https://colab.research.google.com/assets/colab-badge.svg\" alt=\"Open In Colab\"/></a>"
      ]
    },
    {
      "cell_type": "code",
      "execution_count": null,
      "metadata": {
        "colab": {
          "base_uri": "https://localhost:8080/"
        },
        "id": "P0Is_8Pmqlv7",
        "outputId": "ad79dd44-17e8-491f-f1e5-ba8f7307c2a4"
      },
      "outputs": [
        {
          "output_type": "stream",
          "name": "stdout",
          "text": [
            "Collecting mtcnn\n",
            "  Downloading mtcnn-0.1.1-py3-none-any.whl (2.3 MB)\n",
            "\u001b[K     |████████████████████████████████| 2.3 MB 4.4 MB/s \n",
            "\u001b[?25hRequirement already satisfied: opencv-python>=4.1.0 in /usr/local/lib/python3.7/dist-packages (from mtcnn) (4.1.2.30)\n",
            "Requirement already satisfied: keras>=2.0.0 in /usr/local/lib/python3.7/dist-packages (from mtcnn) (2.8.0)\n",
            "Requirement already satisfied: numpy>=1.14.5 in /usr/local/lib/python3.7/dist-packages (from opencv-python>=4.1.0->mtcnn) (1.21.5)\n",
            "Installing collected packages: mtcnn\n",
            "Successfully installed mtcnn-0.1.1\n"
          ]
        }
      ],
      "source": [
        "!pip install mtcnn"
      ]
    },
    {
      "cell_type": "code",
      "source": [
        "import mtcnn"
      ],
      "metadata": {
        "id": "LQgjaAIRq5lw"
      },
      "execution_count": null,
      "outputs": []
    },
    {
      "cell_type": "code",
      "source": [
        "import matplotlib.pyplot as plt\n",
        "# load image from file\n",
        "filename = \"/content/WIN_20220417_19_58_06_Pro.jpg\"\n",
        "pixels = plt.imread(filename)\n",
        "print(\"Shape of image/array:\",pixels.shape)\n",
        "imgplot = plt.imshow(pixels)\n",
        "plt.show()"
      ],
      "metadata": {
        "id": "5fBiQqX7rJD2"
      },
      "execution_count": null,
      "outputs": []
    },
    {
      "cell_type": "code",
      "source": [
        "from matplotlib import pyplot\n",
        "from mtcnn.mtcnn import MTCNN\n",
        "pixels = pyplot.imread(filename)\n",
        "# create the detector, using default weights\n",
        "detector = MTCNN()\n",
        "# detect faces in the image\n",
        "faces = detector.detect_faces(pixels)\n",
        "for face in faces:\n",
        "\tprint(face)"
      ],
      "metadata": {
        "colab": {
          "base_uri": "https://localhost:8080/"
        },
        "id": "7YlL-x0rsUs2",
        "outputId": "ea9e9bee-179b-4489-d96a-2ca7afe22c53"
      },
      "execution_count": null,
      "outputs": [
        {
          "output_type": "stream",
          "name": "stdout",
          "text": [
            "{'box': [539, 286, 255, 357], 'confidence': 0.9999345541000366, 'keypoints': {'left_eye': (614, 425), 'right_eye': (736, 422), 'nose': (686, 471), 'mouth_left': (635, 561), 'mouth_right': (735, 557)}}\n"
          ]
        }
      ]
    },
    {
      "cell_type": "code",
      "source": [
        "# draw an image with detected objects\n",
        "def draw_facebox(filename, result_list):\n",
        "# load the image\n",
        "  data = plt.imread(filename)\n",
        "# plot the image\n",
        "  plt.imshow(data)\n",
        "# get the context for drawing boxes\n",
        "  ax = plt.gca()\n",
        "# plot each box\n",
        "  for result in result_list:\n",
        "# get coordinates\n",
        "      x, y, width, height = result['box']\n",
        "# create the shape\n",
        "      rect = plt.Rectangle((x, y), width, height, fill=False, color='green')\n",
        "# draw the box\n",
        "      ax.add_patch(rect)\n",
        "# show the plot\n",
        "      plt.show()\n",
        "# filename = 'test1.jpg' # filename is defined above, otherwise uncomment\n",
        "# load image from file\n",
        "pixels = plt.imread(filename) # defined above, otherwise uncomment\n",
        "# detector is defined above, otherwise uncomment\n",
        "#detector = mtcnn.MTCNN()\n",
        "# detect faces in the image\n",
        "faces = detector.detect_faces(pixels)\n",
        "# display faces on the original image\n",
        "draw_facebox(filename, faces)"
      ],
      "metadata": {
        "id": "fQ3_G1fbrfUn"
      },
      "execution_count": null,
      "outputs": []
    },
    {
      "cell_type": "code",
      "source": [
        "# extract and plot each detected face in a photograph\n",
        "from matplotlib import pyplot\n",
        "from matplotlib.patches import Rectangle\n",
        "from matplotlib.patches import Circle\n",
        "from mtcnn.mtcnn import MTCNN\n",
        " \n",
        "# draw each face separately\n",
        "def draw_faces(filename, result_list):\n",
        "\t# load the image\n",
        "\tdata = pyplot.imread(filename)\n",
        "\t# plot each face as a subplot\n",
        "\tfor i in range(len(result_list)):\n",
        "\t\t# get coordinates\n",
        "\t\tx1, y1, width, height = result_list[i]['box']\n",
        "\t\tx2, y2 = x1 + width, y1 + height\n",
        "\t\t# define subplot\n",
        "\t\tpyplot.subplot(1, len(result_list), i+1)\n",
        "\t\tpyplot.axis('off')\n",
        "\t\t# plot face\n",
        "\t\tpyplot.imshow(data[y1:y2, x1:x2])\n",
        "\t# show the plot\n",
        "\tpyplot.show()\n",
        " \n",
        "\n",
        "# load image from file\n",
        "pixels = pyplot.imread(filename)\n",
        "# create the detector, using default weights\n",
        "detector = MTCNN()\n",
        "# detect faces in the image\n",
        "faces = detector.detect_faces(pixels)\n",
        "# display faces on the original image\n",
        "draw_faces(filename, faces)"
      ],
      "metadata": {
        "id": "bZi9k3s-vH8k"
      },
      "execution_count": null,
      "outputs": []
    }
  ]
}