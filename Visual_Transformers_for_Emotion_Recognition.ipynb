{
  "nbformat": 4,
  "nbformat_minor": 0,
  "metadata": {
    "colab": {
      "name": "Visual Transformers for Emotion Recognition.ipynb",
      "provenance": [],
      "authorship_tag": "ABX9TyNNSZMiO6bTgD0s+aaYlImz",
      "include_colab_link": true
    },
    "kernelspec": {
      "name": "python3",
      "display_name": "Python 3"
    },
    "language_info": {
      "name": "python"
    },
    "accelerator": "TPU"
  },
  "cells": [
    {
      "cell_type": "markdown",
      "metadata": {
        "id": "view-in-github",
        "colab_type": "text"
      },
      "source": [
        "<a href=\"https://colab.research.google.com/github/kode-git/visual-transformers-emotion-recognition/blob/main/Visual_Transformers_for_Emotion_Recognition.ipynb\" target=\"_parent\"><img src=\"https://colab.research.google.com/assets/colab-badge.svg\" alt=\"Open In Colab\"/></a>"
      ]
    },
    {
      "cell_type": "markdown",
      "source": [
        "# Visual Transformers for Emotion Recognition\n"
      ],
      "metadata": {
        "id": "SywssJIZAKVM"
      }
    },
    {
      "cell_type": "markdown",
      "source": [
        "## 1. Introduction\n",
        "\n",
        "In Machine Learning, Convolutional Neural Network (CNN) are used usually for object detection and classification. This work will try another configuration based on pre-trained Visual Transformers to obtain a good Face Recognition and, using fine-tuning, train an transformer to encode an image, detect the face and classify its emotion. "
      ],
      "metadata": {
        "id": "-aHcm5WmA4qE"
      }
    },
    {
      "cell_type": "markdown",
      "source": [
        ""
      ],
      "metadata": {
        "id": "-s6FVgkOL4BI"
      }
    },
    {
      "cell_type": "code",
      "execution_count": null,
      "metadata": {
        "id": "66hzxAClAFAY"
      },
      "outputs": [],
      "source": [
        "import pandas as pd\n",
        "import matplotlib as plot\n",
        "import seaborn as sns"
      ]
    },
    {
      "cell_type": "code",
      "source": [
        ""
      ],
      "metadata": {
        "id": "f6UEB5GYDYXa"
      },
      "execution_count": null,
      "outputs": []
    }
  ]
}